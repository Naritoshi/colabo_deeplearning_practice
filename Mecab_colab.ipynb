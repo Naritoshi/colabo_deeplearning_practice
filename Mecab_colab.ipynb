{
  "nbformat": 4,
  "nbformat_minor": 0,
  "metadata": {
    "colab": {
      "name": "Mecab_colab.ipynb",
      "version": "0.3.2",
      "provenance": [],
      "collapsed_sections": []
    },
    "kernelspec": {
      "name": "python3",
      "display_name": "Python 3"
    },
    "accelerator": "GPU"
  },
  "cells": [
    {
      "cell_type": "markdown",
      "metadata": {
        "id": "view-in-github",
        "colab_type": "text"
      },
      "source": [
        "[View in Colaboratory](https://colab.research.google.com/github/Naritoshi/colabo_deeplearning_practice/blob/master/Mecab_colab.ipynb)"
      ]
    },
    {
      "metadata": {
        "id": "N5FxqQs7ipA1",
        "colab_type": "text"
      },
      "cell_type": "markdown",
      "source": [
        "#Google Colaboratory で、NEologd 辞書 で、MeCab を 使う（Python）\n"
      ]
    },
    {
      "metadata": {
        "id": "FL4OY-yGfewV",
        "colab_type": "text"
      },
      "cell_type": "markdown",
      "source": [
        "以下の環境でやりました。\n",
        "\n",
        "\n",
        "*   GoogleColaboratory\n",
        "*   Python3のノートブック\n",
        "*   GPUのやつ"
      ]
    },
    {
      "metadata": {
        "id": "2ksC5mvvfMLu",
        "colab_type": "text"
      },
      "cell_type": "markdown",
      "source": [
        "##MeCabのインストール"
      ]
    },
    {
      "metadata": {
        "id": "fKZxM5BcaGdi",
        "colab_type": "text"
      },
      "cell_type": "markdown",
      "source": [
        "###MeCabをインストールする\n",
        "[参考にした記事](https://medium.com/moonshot/google-colab-mecab-ipadic-neologd-5e740a57ba73)"
      ]
    },
    {
      "metadata": {
        "id": "y_EYA-mAfIsN",
        "colab_type": "text"
      },
      "cell_type": "markdown",
      "source": [
        "MeCabをインストールします。"
      ]
    },
    {
      "metadata": {
        "id": "ez-2rohC8anU",
        "colab_type": "code",
        "colab": {}
      },
      "cell_type": "code",
      "source": [
        "!apt-get -q -y install sudo file mecab libmecab-dev mecab-ipadic-utf8 git curl python-mecab"
      ],
      "execution_count": 0,
      "outputs": []
    },
    {
      "metadata": {
        "id": "g5HcdzuwepkS",
        "colab_type": "text"
      },
      "cell_type": "markdown",
      "source": [
        "mecabをコマンドラインから実行してみます。"
      ]
    },
    {
      "metadata": {
        "id": "zToLZhAqf4I5",
        "colab_type": "code",
        "colab": {
          "base_uri": "https://localhost:8080/",
          "height": 125
        },
        "outputId": "ae01b35c-fa0b-4fa6-ccdb-b8120064d4a6"
      },
      "cell_type": "code",
      "source": [
        "%%bash\n",
        "mecab \n",
        "メカブって神ってる"
      ],
      "execution_count": 2,
      "outputs": [
        {
          "output_type": "stream",
          "text": [
            "メカブ\t名詞,固有名詞,組織,*,*,*,*\n",
            "って\t助詞,格助詞,連語,*,*,*,って,ッテ,ッテ\n",
            "神\t名詞,一般,*,*,*,*,神,カミ,カミ\n",
            "って\t助詞,格助詞,連語,*,*,*,って,ッテ,ッテ\n",
            "る\t助動詞,*,*,*,文語・ル,基本形,る,ル,ル\n",
            "EOS\n"
          ],
          "name": "stdout"
        }
      ]
    },
    {
      "metadata": {
        "id": "UFAnio3VfBSL",
        "colab_type": "text"
      },
      "cell_type": "markdown",
      "source": [
        "「神ってる」が、「神」「って」「る」とわかれてしまします。\n",
        "なので、新語に対応した辞書「mecab-ipadic-NEologd」を使うようにします。"
      ]
    },
    {
      "metadata": {
        "id": "rOeU_I1YZ0Rj",
        "colab_type": "text"
      },
      "cell_type": "markdown",
      "source": [
        "###mecab-ipadic-NEologdをダウンロード\n",
        "[mecab-ipadic-NEologdについて](https://engineering.linecorp.com/ja/blog/detail/109)\n",
        "\n",
        "[参考にした記事](https://qiita.com/bokotomo/items/3e9d78a4bc94c0314346)"
      ]
    },
    {
      "metadata": {
        "id": "k-pvV9GzfPnx",
        "colab_type": "text"
      },
      "cell_type": "markdown",
      "source": [
        "mecab-ipadic-NEologdをダウンロードします。"
      ]
    },
    {
      "metadata": {
        "id": "xC28DRRTY3D9",
        "colab_type": "code",
        "colab": {}
      },
      "cell_type": "code",
      "source": [
        "!git clone --depth 1 https://github.com/neologd/mecab-ipadic-neologd.git\n",
        "!echo yes | mecab-ipadic-neologd/bin/install-mecab-ipadic-neologd -n"
      ],
      "execution_count": 0,
      "outputs": []
    },
    {
      "metadata": {
        "id": "GNqXkUQ_gk_c",
        "colab_type": "text"
      },
      "cell_type": "markdown",
      "source": [
        "###辞書が新しくなったか確認する１"
      ]
    },
    {
      "metadata": {
        "id": "d5U1-0_OgGuO",
        "colab_type": "text"
      },
      "cell_type": "markdown",
      "source": [
        "mecabをコマンドラインから実行してみます。"
      ]
    },
    {
      "metadata": {
        "id": "OvWuvDJs8hmv",
        "colab_type": "code",
        "colab": {
          "base_uri": "https://localhost:8080/",
          "height": 125
        },
        "outputId": "faa061e7-50d6-4b30-89bb-9175f8ae1b8e"
      },
      "cell_type": "code",
      "source": [
        "%%bash\n",
        "mecab \n",
        "メカブって神ってる"
      ],
      "execution_count": 4,
      "outputs": [
        {
          "output_type": "stream",
          "text": [
            "メカブ\t名詞,固有名詞,組織,*,*,*,*\n",
            "って\t助詞,格助詞,連語,*,*,*,って,ッテ,ッテ\n",
            "神\t名詞,一般,*,*,*,*,神,カミ,カミ\n",
            "って\t助詞,格助詞,連語,*,*,*,って,ッテ,ッテ\n",
            "る\t助動詞,*,*,*,文語・ル,基本形,る,ル,ル\n",
            "EOS\n"
          ],
          "name": "stdout"
        }
      ]
    },
    {
      "metadata": {
        "id": "qAz8pxR8uVVZ",
        "colab_type": "text"
      },
      "cell_type": "markdown",
      "source": [
        "前回と変わらないようなので、辞書は新しくなっていません。\n",
        "  \n",
        "  設定ファイル？「mecabrc」を変更し、新しい辞書のパスを見るようにする必要があるようです。"
      ]
    },
    {
      "metadata": {
        "id": "4CUk6J6SgqQk",
        "colab_type": "text"
      },
      "cell_type": "markdown",
      "source": [
        "###設定ファイルを変更する"
      ]
    },
    {
      "metadata": {
        "id": "XdXQSxztgwn3",
        "colab_type": "text"
      },
      "cell_type": "markdown",
      "source": [
        "「/etc/mecabrc」ファイルの「dicdir = /var/lib/mecab/dic/debian」を、\n",
        "「mecab-ipadic-NEologd」の辞書のパス「/usr/lib/x86_64-linux-gnu/mecab/dic/mecab-ipadic-neologd」に変更します。"
      ]
    },
    {
      "metadata": {
        "id": "i8ll88yArD0I",
        "colab_type": "text"
      },
      "cell_type": "markdown",
      "source": [
        "####/etc/mecabrcの中身を確認する\n",
        "catコマンドを使って、ファイルの中身を確認します。"
      ]
    },
    {
      "metadata": {
        "id": "BDed_OsOUHWv",
        "colab_type": "code",
        "colab": {
          "base_uri": "https://localhost:8080/",
          "height": 305
        },
        "outputId": "6680f3ee-45a7-4505-9393-84a403bad077"
      },
      "cell_type": "code",
      "source": [
        "!cat /etc/mecabrc "
      ],
      "execution_count": 5,
      "outputs": [
        {
          "output_type": "stream",
          "text": [
            ";\r\n",
            "; Configuration file of MeCab\r\n",
            ";\r\n",
            "; $Id: mecabrc.in,v 1.3 2006/05/29 15:36:08 taku-ku Exp $;\r\n",
            ";\r\n",
            "dicdir = /var/lib/mecab/dic/debian\r\n",
            "\r\n",
            "; userdic = /home/foo/bar/user.dic\r\n",
            "\r\n",
            "; output-format-type = wakati\r\n",
            "; input-buffer-size = 8192\r\n",
            "\r\n",
            "; node-format = %m\\n\r\n",
            "; bos-format = %S\\n\r\n",
            "; eos-format = EOS\\n\r\n",
            "\r\n"
          ],
          "name": "stdout"
        }
      ]
    },
    {
      "metadata": {
        "id": "qjaiT8CshLiP",
        "colab_type": "text"
      },
      "cell_type": "markdown",
      "source": [
        "####設定ファイルを変更する"
      ]
    },
    {
      "metadata": {
        "id": "HvZw4TW7s9Ob",
        "colab_type": "text"
      },
      "cell_type": "markdown",
      "source": [
        "1.   sedコマンドを使て、ファイルを変更、ファイル名を「mecabrc.new」として保存する。\n",
        "2.   「mecabrc.new」の中身を確認\n",
        "3.   「mecabrc」のバックアップの保存（mecabrc.orgとする）\n",
        "4.   「mecabrc.new」を「mecabrc」に上書き\n",
        "5.   「mecabrc」の中身を確認"
      ]
    },
    {
      "metadata": {
        "id": "IIdQ86g7tArD",
        "colab_type": "text"
      },
      "cell_type": "markdown",
      "source": [
        "ファイルの「dicdir = /var/lib/mecab/dic/debian」を、「mecab-ipadic-NEologd」の辞書のパス「/usr/lib/x86_64-linux-gnu/mecab/dic/mecab-ipadic-neologd」に変更します。"
      ]
    },
    {
      "metadata": {
        "id": "VCCYbkpmXIiH",
        "colab_type": "code",
        "colab": {}
      },
      "cell_type": "code",
      "source": [
        "!sed -e \"s!/var/lib/mecab/dic/debian!/usr/lib/x86_64-linux-gnu/mecab/dic/mecab-ipadic-neologd!g\" /etc/mecabrc > /etc/mecabrc.new"
      ],
      "execution_count": 0,
      "outputs": []
    },
    {
      "metadata": {
        "id": "3ibKQImqhSG6",
        "colab_type": "text"
      },
      "cell_type": "markdown",
      "source": [
        "変わったか確認します。"
      ]
    },
    {
      "metadata": {
        "id": "IZq5z3oqVPMW",
        "colab_type": "code",
        "colab": {
          "base_uri": "https://localhost:8080/",
          "height": 305
        },
        "outputId": "79b87ff4-8626-4b78-b851-46a934f6ea6c"
      },
      "cell_type": "code",
      "source": [
        "!cat /etc/mecabrc.new"
      ],
      "execution_count": 7,
      "outputs": [
        {
          "output_type": "stream",
          "text": [
            ";\r\n",
            "; Configuration file of MeCab\r\n",
            ";\r\n",
            "; $Id: mecabrc.in,v 1.3 2006/05/29 15:36:08 taku-ku Exp $;\r\n",
            ";\r\n",
            "dicdir = /usr/lib/x86_64-linux-gnu/mecab/dic/mecab-ipadic-neologd\r\n",
            "\r\n",
            "; userdic = /home/foo/bar/user.dic\r\n",
            "\r\n",
            "; output-format-type = wakati\r\n",
            "; input-buffer-size = 8192\r\n",
            "\r\n",
            "; node-format = %m\\n\r\n",
            "; bos-format = %S\\n\r\n",
            "; eos-format = EOS\\n\r\n",
            "\r\n"
          ],
          "name": "stdout"
        }
      ]
    },
    {
      "metadata": {
        "id": "BKs7gs56hynT",
        "colab_type": "text"
      },
      "cell_type": "markdown",
      "source": [
        "変更出来ているので、「/etc/mecabrc.new」を「/etc/mecabrc」にします。\n",
        "\n"
      ]
    },
    {
      "metadata": {
        "id": "TgV_LRt_VWP2",
        "colab_type": "code",
        "colab": {}
      },
      "cell_type": "code",
      "source": [
        "!cp /etc/mecabrc /etc/mecabrc.org\n",
        "!cp /etc/mecabrc.new /etc/mecabrc"
      ],
      "execution_count": 0,
      "outputs": []
    },
    {
      "metadata": {
        "id": "GV99Jv4diAbz",
        "colab_type": "text"
      },
      "cell_type": "markdown",
      "source": [
        "確認します。"
      ]
    },
    {
      "metadata": {
        "id": "9-pd3JWxVki5",
        "colab_type": "code",
        "colab": {
          "base_uri": "https://localhost:8080/",
          "height": 305
        },
        "outputId": "e3f4a2e4-915c-43eb-88b4-e36cf73d4622"
      },
      "cell_type": "code",
      "source": [
        "!cat /etc/mecabrc "
      ],
      "execution_count": 9,
      "outputs": [
        {
          "output_type": "stream",
          "text": [
            ";\r\n",
            "; Configuration file of MeCab\r\n",
            ";\r\n",
            "; $Id: mecabrc.in,v 1.3 2006/05/29 15:36:08 taku-ku Exp $;\r\n",
            ";\r\n",
            "dicdir = /usr/lib/x86_64-linux-gnu/mecab/dic/mecab-ipadic-neologd\r\n",
            "\r\n",
            "; userdic = /home/foo/bar/user.dic\r\n",
            "\r\n",
            "; output-format-type = wakati\r\n",
            "; input-buffer-size = 8192\r\n",
            "\r\n",
            "; node-format = %m\\n\r\n",
            "; bos-format = %S\\n\r\n",
            "; eos-format = EOS\\n\r\n",
            "\r\n"
          ],
          "name": "stdout"
        }
      ]
    },
    {
      "metadata": {
        "id": "rhbCZbJhiEAg",
        "colab_type": "text"
      },
      "cell_type": "markdown",
      "source": [
        "###辞書が新しくなったか確認する２"
      ]
    },
    {
      "metadata": {
        "id": "Thkr_LR-Vqwn",
        "colab_type": "code",
        "colab": {
          "base_uri": "https://localhost:8080/",
          "height": 89
        },
        "outputId": "d6177aaf-5cff-4058-a15f-be3d226f8a7a"
      },
      "cell_type": "code",
      "source": [
        "%%bash\n",
        "mecab \n",
        "メカブって神ってる"
      ],
      "execution_count": 10,
      "outputs": [
        {
          "output_type": "stream",
          "text": [
            "メカブ\t名詞,固有名詞,一般,*,*,*,MeCab,メカブ,メカブ\n",
            "って\t助詞,格助詞,連語,*,*,*,って,ッテ,ッテ\n",
            "神ってる\t名詞,固有名詞,一般,*,*,*,神ってる,カミッテル,カミッテル\n",
            "EOS\n"
          ],
          "name": "stdout"
        }
      ]
    },
    {
      "metadata": {
        "id": "jtCaNlb0fElp",
        "colab_type": "text"
      },
      "cell_type": "markdown",
      "source": [
        "##PYTHONで実行"
      ]
    },
    {
      "metadata": {
        "id": "TgaokvSKgasK",
        "colab_type": "text"
      },
      "cell_type": "markdown",
      "source": [
        "mecab-python3をインストールします。"
      ]
    },
    {
      "metadata": {
        "id": "lfisGB8dUkrc",
        "colab_type": "code",
        "colab": {
          "base_uri": "https://localhost:8080/",
          "height": 179
        },
        "outputId": "34f221bb-7a98-47a3-b3cc-d8e524709d78"
      },
      "cell_type": "code",
      "source": [
        "!pip install mecab-python3"
      ],
      "execution_count": 11,
      "outputs": [
        {
          "output_type": "stream",
          "text": [
            "Collecting mecab-python3\n",
            "\u001b[?25l  Downloading https://files.pythonhosted.org/packages/25/e9/bbf5fc790a2bedd96fbaf47a84afa060bfb0b3e0217e5f64b32bd4bbad69/mecab-python3-0.7.tar.gz (41kB)\n",
            "\u001b[K    100% |████████████████████████████████| 51kB 4.3MB/s \n",
            "\u001b[?25hBuilding wheels for collected packages: mecab-python3\n",
            "  Running setup.py bdist_wheel for mecab-python3 ... \u001b[?25l-\b \b\\\b \b|\b \b/\b \b-\b \bdone\n",
            "\u001b[?25h  Stored in directory: /content/.cache/pip/wheels/4c/07/3a/5f22ccc9f381f3bc01fa023202061cd1e0e9af855292f005dd\n",
            "Successfully built mecab-python3\n",
            "Installing collected packages: mecab-python3\n",
            "Successfully installed mecab-python3-0.7\n"
          ],
          "name": "stdout"
        }
      ]
    },
    {
      "metadata": {
        "id": "qCxZ5KEDggeq",
        "colab_type": "text"
      },
      "cell_type": "markdown",
      "source": [
        "Pythonで、MeCabを使います。"
      ]
    },
    {
      "metadata": {
        "id": "Qm1ll1k2ffMn",
        "colab_type": "code",
        "colab": {
          "base_uri": "https://localhost:8080/",
          "height": 107
        },
        "outputId": "c52a0d26-0e93-4c71-a144-c997c29c1d08"
      },
      "cell_type": "code",
      "source": [
        "import MeCab\n",
        "mecab = MeCab.Tagger('-Ochasen')\n",
        "res = mecab.parse('メカブって神ってる')\n",
        "print(res)"
      ],
      "execution_count": 12,
      "outputs": [
        {
          "output_type": "stream",
          "text": [
            "メカブ\tメカブ\tMeCab\t名詞-固有名詞-一般\t\t\n",
            "って\tッテ\tって\t助詞-格助詞-連語\t\t\n",
            "神ってる\tカミッテル\t神ってる\t名詞-固有名詞-一般\t\t\n",
            "EOS\n",
            "\n"
          ],
          "name": "stdout"
        }
      ]
    },
    {
      "metadata": {
        "id": "DHJU5TksuHkR",
        "colab_type": "code",
        "colab": {}
      },
      "cell_type": "code",
      "source": [
        ""
      ],
      "execution_count": 0,
      "outputs": []
    }
  ]
}